{
 "cells": [
  {
   "cell_type": "markdown",
   "metadata": {},
   "source": [
    "## Multiple Linear Regression method applied to gravimetry data\n",
    "\n",
    "Hi! This was my final project for my bachelor degree. The method is pretty simple, but the implications are far from it!\n",
    "\n",
    "In case you are not familiar to gravimetry, I will give you a brief explanation."
   ]
  },
  {
   "cell_type": "markdown",
   "metadata": {},
   "source": [
    "#### Gravimetry\n",
    "Geophysics is the study of Earth's properties based on physics to estimate soil/rock, and other geological objects, properties indirectly - most of the time.\n",
    "\n",
    "Gravimetry is the study of changes in Earth's gravitational field to estimate rock types, presence of water and other fluid bodies (such as petroleum!). It mainly consists on the reading of Earth's gravity (*observed gravity*, $g_{obs}$) in the study region and comparison with the theoretical value of the same region after corrections are applied in the observed value - caused by global position (latitude), tidal effects, height and density differences from a standard value.\n",
    "\n",
    "The data is obtained by going to the study region with a gravimeter (be at land, at sea, air or space): a sensible instrument with a precision, typically, in microGals.\n",
    "$$\n",
    "1 \\mu Gal = 1 \\times10^{-8} \\,ms^{-2}\n",
    "$$\n",
    "The final data from the gravimetry method is the *Bouger anomaly*, and it is obtained by appling the many corrections cited above. The precision of the final result vary from the scale of the data survey: terrestrial survey is much more precise then space survey. However, the anomaly data can be ambiguous: different bodies can cause the same anomaly, so *prior knowledge* of the area, or other data from other geophysical method to comparison can be valuable for data interpretation.\n",
    "\n",
    "But! Imagine having a estimated data for the area *before* even going to the study field? Wouldn't that be great?! In this work, I propose the method of linear regression to predict data for observed gravity. Since $g_{obs}$ has an implicit dependency on planetary rotation, height to a datum and density of the body that causes this field, I aimed to establish, as a first approximation, a linear mathematical relation between $g_{obs}$ and geographic position (latitude), height and local density by the machine learning method of Multiple Linear Regression (MLR). \n",
    "\n",
    "So, lets get started!"
   ]
  },
  {
   "cell_type": "markdown",
   "metadata": {},
   "source": [
    "#### Importing libraries"
   ]
  },
  {
   "cell_type": "code",
   "execution_count": 15,
   "metadata": {},
   "outputs": [],
   "source": [
    "import pandas as pd # for data reading\n",
    "import numpy as np  # for basic operations\n",
    "import matplotlib.pyplot as plt # for data visualization\n",
    "from sklearn.model_selection import train_test_split    # for data split  \n",
    "from sklearn.preprocessing import StandardScaler        # for data scale\n",
    "from sklearn.linear_model import LinearRegression       # model itself"
   ]
  },
  {
   "cell_type": "markdown",
   "metadata": {},
   "source": [
    "#### Setting dependent and independent variables"
   ]
  },
  {
   "cell_type": "code",
   "execution_count": 2,
   "metadata": {},
   "outputs": [],
   "source": [
    "df = pd.read_excel('ALL_DATA.xlsx', header = None)  # reading my data, that consists on a data survey in site from south Brazil basin,\n",
    "                                                    # Paraná's basin"
   ]
  },
  {
   "cell_type": "code",
   "execution_count": 4,
   "metadata": {},
   "outputs": [],
   "source": [
    "x = df.iloc[22:,[2,6,7]].values     # independent variables: latitude, density and height.\n",
    "y = df.iloc[22:,11].values          # dependent variable: observed gravity."
   ]
  },
  {
   "cell_type": "markdown",
   "metadata": {},
   "source": [
    "#### Data split"
   ]
  },
  {
   "cell_type": "markdown",
   "metadata": {},
   "source": [
    "In my original work, I used the variation of the density to split the data in one model (I did five models, each one with different splits), but that is not the machine-learning-way to do this.\n",
    "Now, I will split the data randomly, using the library already imported in a 80% train set - 20% test set, split, as usual."
   ]
  },
  {
   "cell_type": "code",
   "execution_count": 16,
   "metadata": {},
   "outputs": [],
   "source": [
    "x_train, x_test, y_train, y_test = train_test_split(x,y, test_size=0.2)"
   ]
  },
  {
   "cell_type": "markdown",
   "metadata": {},
   "source": [
    "#### Feature scaling\n",
    "All data must have the same unit and similar ranges, so the model doesn't give more weight to a parameter.\n",
    "\n",
    "Also, the standardization parameter object must be called both for the independent variables $x$,  and dependent one $y$, because $x$ (independent variables) is much smaller than $y$, and not doing so could cause the model to neglect the $x$ variable. Since both have to be scaled, we need a unique *StandardScaler* object for each, because this object, one called, calculates the *mean* $\\mu$ and *standard deviation* $\\sigma$ for the dataset that it was called for, and since $y$ is a different dataset than $x$, they will have different parameters. In case you don't know, this is what this object will do:\n",
    "$$\n",
    "x_{stand} = \\frac{x-\\mu}{\\sigma}\n",
    "$$\n",
    "and the data is then in the range $-3<x_{stand}<3$\n"
   ]
  },
  {
   "cell_type": "code",
   "execution_count": 6,
   "metadata": {},
   "outputs": [],
   "source": [
    "scx = StandardScaler()\n",
    "scy = StandardScaler()"
   ]
  },
  {
   "cell_type": "code",
   "execution_count": 7,
   "metadata": {},
   "outputs": [],
   "source": [
    "x_train[:,:] = scx.fit_transform(x_train[:,:])\n",
    "x_test[:,:] = scx.transform(x_test[:,:])"
   ]
  },
  {
   "cell_type": "code",
   "execution_count": 8,
   "metadata": {},
   "outputs": [],
   "source": [
    "y_train = scy.fit_transform(y_train.reshape(len(y_train),1))\n",
    "y_test = scy.transform(y_test.reshape(len(y_test),1))"
   ]
  },
  {
   "cell_type": "code",
   "execution_count": 9,
   "metadata": {},
   "outputs": [
    {
     "data": {
      "text/html": [
       "<style>#sk-container-id-1 {color: black;background-color: white;}#sk-container-id-1 pre{padding: 0;}#sk-container-id-1 div.sk-toggleable {background-color: white;}#sk-container-id-1 label.sk-toggleable__label {cursor: pointer;display: block;width: 100%;margin-bottom: 0;padding: 0.3em;box-sizing: border-box;text-align: center;}#sk-container-id-1 label.sk-toggleable__label-arrow:before {content: \"▸\";float: left;margin-right: 0.25em;color: #696969;}#sk-container-id-1 label.sk-toggleable__label-arrow:hover:before {color: black;}#sk-container-id-1 div.sk-estimator:hover label.sk-toggleable__label-arrow:before {color: black;}#sk-container-id-1 div.sk-toggleable__content {max-height: 0;max-width: 0;overflow: hidden;text-align: left;background-color: #f0f8ff;}#sk-container-id-1 div.sk-toggleable__content pre {margin: 0.2em;color: black;border-radius: 0.25em;background-color: #f0f8ff;}#sk-container-id-1 input.sk-toggleable__control:checked~div.sk-toggleable__content {max-height: 200px;max-width: 100%;overflow: auto;}#sk-container-id-1 input.sk-toggleable__control:checked~label.sk-toggleable__label-arrow:before {content: \"▾\";}#sk-container-id-1 div.sk-estimator input.sk-toggleable__control:checked~label.sk-toggleable__label {background-color: #d4ebff;}#sk-container-id-1 div.sk-label input.sk-toggleable__control:checked~label.sk-toggleable__label {background-color: #d4ebff;}#sk-container-id-1 input.sk-hidden--visually {border: 0;clip: rect(1px 1px 1px 1px);clip: rect(1px, 1px, 1px, 1px);height: 1px;margin: -1px;overflow: hidden;padding: 0;position: absolute;width: 1px;}#sk-container-id-1 div.sk-estimator {font-family: monospace;background-color: #f0f8ff;border: 1px dotted black;border-radius: 0.25em;box-sizing: border-box;margin-bottom: 0.5em;}#sk-container-id-1 div.sk-estimator:hover {background-color: #d4ebff;}#sk-container-id-1 div.sk-parallel-item::after {content: \"\";width: 100%;border-bottom: 1px solid gray;flex-grow: 1;}#sk-container-id-1 div.sk-label:hover label.sk-toggleable__label {background-color: #d4ebff;}#sk-container-id-1 div.sk-serial::before {content: \"\";position: absolute;border-left: 1px solid gray;box-sizing: border-box;top: 0;bottom: 0;left: 50%;z-index: 0;}#sk-container-id-1 div.sk-serial {display: flex;flex-direction: column;align-items: center;background-color: white;padding-right: 0.2em;padding-left: 0.2em;position: relative;}#sk-container-id-1 div.sk-item {position: relative;z-index: 1;}#sk-container-id-1 div.sk-parallel {display: flex;align-items: stretch;justify-content: center;background-color: white;position: relative;}#sk-container-id-1 div.sk-item::before, #sk-container-id-1 div.sk-parallel-item::before {content: \"\";position: absolute;border-left: 1px solid gray;box-sizing: border-box;top: 0;bottom: 0;left: 50%;z-index: -1;}#sk-container-id-1 div.sk-parallel-item {display: flex;flex-direction: column;z-index: 1;position: relative;background-color: white;}#sk-container-id-1 div.sk-parallel-item:first-child::after {align-self: flex-end;width: 50%;}#sk-container-id-1 div.sk-parallel-item:last-child::after {align-self: flex-start;width: 50%;}#sk-container-id-1 div.sk-parallel-item:only-child::after {width: 0;}#sk-container-id-1 div.sk-dashed-wrapped {border: 1px dashed gray;margin: 0 0.4em 0.5em 0.4em;box-sizing: border-box;padding-bottom: 0.4em;background-color: white;}#sk-container-id-1 div.sk-label label {font-family: monospace;font-weight: bold;display: inline-block;line-height: 1.2em;}#sk-container-id-1 div.sk-label-container {text-align: center;}#sk-container-id-1 div.sk-container {/* jupyter's `normalize.less` sets `[hidden] { display: none; }` but bootstrap.min.css set `[hidden] { display: none !important; }` so we also need the `!important` here to be able to override the default hidden behavior on the sphinx rendered scikit-learn.org. See: https://github.com/scikit-learn/scikit-learn/issues/21755 */display: inline-block !important;position: relative;}#sk-container-id-1 div.sk-text-repr-fallback {display: none;}</style><div id=\"sk-container-id-1\" class=\"sk-top-container\"><div class=\"sk-text-repr-fallback\"><pre>LinearRegression()</pre><b>In a Jupyter environment, please rerun this cell to show the HTML representation or trust the notebook. <br />On GitHub, the HTML representation is unable to render, please try loading this page with nbviewer.org.</b></div><div class=\"sk-container\" hidden><div class=\"sk-item\"><div class=\"sk-estimator sk-toggleable\"><input class=\"sk-toggleable__control sk-hidden--visually\" id=\"sk-estimator-id-1\" type=\"checkbox\" checked><label for=\"sk-estimator-id-1\" class=\"sk-toggleable__label sk-toggleable__label-arrow\">LinearRegression</label><div class=\"sk-toggleable__content\"><pre>LinearRegression()</pre></div></div></div></div></div>"
      ],
      "text/plain": [
       "LinearRegression()"
      ]
     },
     "execution_count": 9,
     "metadata": {},
     "output_type": "execute_result"
    }
   ],
   "source": [
    "reg = LinearRegression()\n",
    "reg.fit(x_train,y_train)"
   ]
  },
  {
   "cell_type": "code",
   "execution_count": 10,
   "metadata": {},
   "outputs": [],
   "source": [
    "y_pred = reg.predict(x_train)\n",
    "r2_train = ('%.4f' % reg.score(x_train, y_train))\n",
    "r2_test = ('%.4f' % reg.score(x_test,y_test))"
   ]
  },
  {
   "cell_type": "code",
   "execution_count": 11,
   "metadata": {},
   "outputs": [
    {
     "data": {
      "text/plain": [
       "Text(0.5, 1.0, 'Regressor on train set')"
      ]
     },
     "execution_count": 11,
     "metadata": {},
     "output_type": "execute_result"
    },
    {
     "data": {
      "image/png": "[encoded data removed]",
      "text/plain": [
       "<Figure size 432x288 with 1 Axes>"
      ]
     },
     "metadata": {
      "needs_background": "light"
     },
     "output_type": "display_data"
    }
   ],
   "source": [
    "\n",
    "\n",
    "plt.scatter(scy.inverse_transform(y_train), scy.inverse_transform(reg.predict(x_train)), c='black')\n",
    "plt.plot([min(scy.inverse_transform(y_train)), max(scy.inverse_transform(y_train))],\n",
    "         [min(scy.inverse_transform(y_train)), max(scy.inverse_transform(y_train))], c='r')\n",
    "plt.grid()\n",
    "plt.text(9000,8600,'$R^2$ = '+ str(r2_train))\n",
    "plt.xlabel('Train set [mGal]')\n",
    "plt.ylabel('Predicted values [mGal]')\n",
    "plt.title('Regressor on train set')"
   ]
  },
  {
   "cell_type": "code",
   "execution_count": 12,
   "metadata": {},
   "outputs": [
    {
     "data": {
      "text/plain": [
       "Text(0.5, 1.0, 'Regressor on test set')"
      ]
     },
     "execution_count": 12,
     "metadata": {},
     "output_type": "execute_result"
    },
    {
     "data": {
      "image/png": "[encoded data removed]",
      "text/plain": [
       "<Figure size 432x288 with 1 Axes>"
      ]
     },
     "metadata": {
      "needs_background": "light"
     },
     "output_type": "display_data"
    }
   ],
   "source": [
    "plt.scatter(scy.inverse_transform(y_test), scy.inverse_transform(reg.predict(x_test)), c='black')\n",
    "plt.plot([min(scy.inverse_transform(y_test)), max(scy.inverse_transform(y_test))],\n",
    "         [min(scy.inverse_transform(y_test)), max(scy.inverse_transform(y_test))], c='r')\n",
    "plt.grid()\n",
    "plt.xlabel('Test set [mGal]')\n",
    "plt.ylabel('Predicted values [mGal]')\n",
    "plt.text(9000,8600,'$R^2$ = '+ str(r2_test))\n",
    "\n",
    "plt.title('Regressor on test set')"
   ]
  },
  {
   "cell_type": "code",
   "execution_count": 13,
   "metadata": {},
   "outputs": [
    {
     "name": "stdout",
     "output_type": "stream",
     "text": [
      "[[-26.91746563   2.47562252 505.34694527]]\n",
      "[[8738.54456801]]\n"
     ]
    }
   ],
   "source": [
    "print(scx.inverse_transform(reg.coef_))\n",
    "print(scy.inverse_transform(reg.intercept_.reshape(len(reg.intercept_),1)))"
   ]
  },
  {
   "cell_type": "code",
   "execution_count": null,
   "metadata": {},
   "outputs": [],
   "source": []
  },
  {
   "cell_type": "code",
   "execution_count": 14,
   "metadata": {},
   "outputs": [
    {
     "data": {
      "text/plain": [
       "array([[1.0101579078119818, -1.241530723333974, -0.7941001295171786],\n",
       "       [1.4417773753495624, 0.8640108187716804, -0.8607741429809159],\n",
       "       [0.41012285252730163, 0.8640108187716804, -0.5460585714268316],\n",
       "       ...,\n",
       "       [1.149967555547147, 0.8640108187716804, -0.377377664809623],\n",
       "       [0.96405406644515, -1.241530723333974, -0.9343645478828002],\n",
       "       [0.9865122186148267, -1.241530723333974, -0.8357565670932184]],\n",
       "      dtype=object)"
      ]
     },
     "execution_count": 14,
     "metadata": {},
     "output_type": "execute_result"
    }
   ],
   "source": [
    "x_test"
   ]
  }
 ],
 "metadata": {
  "kernelspec": {
   "display_name": "Python 3.9.7 ('jupyter-pyroot': conda)",
   "language": "python",
   "name": "python3"
  },
  "language_info": {
   "codemirror_mode": {
    "name": "ipython",
    "version": 3
   },
   "file_extension": ".py",
   "mimetype": "text/x-python",
   "name": "python",
   "nbconvert_exporter": "python",
   "pygments_lexer": "ipython3",
   "version": "3.9.7"
  },
  "orig_nbformat": 4,
  "vscode": {
   "interpreter": {
    "hash": "6ba031d096edee3396909c9ef5a20041743fbc3716776c13d127be5c1a4d0eea"
   }
  }
 },
 "nbformat": 4,
 "nbformat_minor": 2
}
